{
 "cells": [
  {
   "cell_type": "markdown",
   "id": "4e233543",
   "metadata": {},
   "source": [
    "# classification of dog and cat using SVM"
   ]
  },
  {
   "cell_type": "markdown",
   "id": "904e6e48",
   "metadata": {},
   "source": [
    "import the libraries"
   ]
  },
  {
   "cell_type": "code",
   "execution_count": 8,
   "id": "4a2be488",
   "metadata": {},
   "outputs": [],
   "source": [
    "import numpy as np\n",
    "import pandas as pd\n",
    "import matplotlib.pyplot as plt\n",
    "\n",
    "import os\n",
    "\n",
    "import cv2\n",
    "from sklearn.model_selection import train_test_split\n",
    "from sklearn.svm import SVC\n",
    "from sklearn.metrics import accuracy_score, classification_report, confusion_matrix\n",
    "\n",
    "from tqdm import tqdm\n",
    "\n",
    "from IPython import get_ipython\n",
    "from IPython.display import display"
   ]
  },
  {
   "cell_type": "markdown",
   "id": "3e931367",
   "metadata": {},
   "source": [
    "import the dataset"
   ]
  },
  {
   "cell_type": "code",
   "execution_count": 9,
   "id": "3500da16",
   "metadata": {},
   "outputs": [
    {
     "name": "stderr",
     "output_type": "stream",
     "text": [
      "100%|██████████| 7/7 [00:00<00:00, 61.41it/s]"
     ]
    },
    {
     "name": "stdout",
     "output_type": "stream",
     "text": [
      "Image loading complete.\n",
      "Number of images loaded: 7\n",
      "Number of labels loaded: 7\n"
     ]
    },
    {
     "name": "stderr",
     "output_type": "stream",
     "text": [
      "\n"
     ]
    }
   ],
   "source": [
    "image_paths = [\n",
    "    \"./Cats/1.jpg\",\n",
    "    \"./Dogs/10.jpg\",\n",
    "    \"./Dogs/100.jpg\",\n",
    "    \"./Cats/10001.jpg\",\n",
    "    \"./Dogs/10003.jpg\",\n",
    "    \"./Dogs/10006.jpg\",\n",
    "    \"./Cats/10022.jpg\"\n",
    "]\n",
    "\n",
    "image_labels = [\n",
    "    0,  # Label for ./1.jpg\n",
    "    1,  # Label for ./10.jpg\n",
    "    2,  # Label for ./100.jpg\n",
    "    0,  # Label for ./10001.jpg \n",
    "    1,  # Label for ./10003.jpg \n",
    "    2,  # Label for ./10006.jpg \n",
    "    0   # Label for ./10022.jpg \n",
    "]\n",
    "\n",
    "IMG_SIZE = 64\n",
    "data = []\n",
    "labels = []\n",
    "\n",
    "for i, img_path in enumerate(tqdm(image_paths)):\n",
    "    try:\n",
    "        img_array = cv2.imread(img_path, cv2.IMREAD_GRAYSCALE)\n",
    "        if img_array is not None:\n",
    "            resized = cv2.resize(img_array, (IMG_SIZE, IMG_SIZE))\n",
    "            data.append(resized.flatten())\n",
    "            labels.append(image_labels[i])\n",
    "\n",
    "    except Exception as e:\n",
    "        print(f\"Error loading image {img_path}: {e}\")\n",
    "        pass\n",
    "\n",
    "data = np.array(data)\n",
    "labels = np.array(labels)\n",
    "\n",
    "print(\"Image loading complete.\")\n",
    "print(f\"Number of images loaded: {len(data)}\")\n",
    "print(f\"Number of labels loaded: {len(labels)}\")"
   ]
  },
  {
   "cell_type": "code",
   "execution_count": 10,
   "id": "bcd000aa",
   "metadata": {},
   "outputs": [],
   "source": [
    "data = np.array(data)\n",
    "labels = np.array(labels)"
   ]
  },
  {
   "cell_type": "markdown",
   "id": "db31fc7c",
   "metadata": {},
   "source": [
    "split the dataset"
   ]
  },
  {
   "cell_type": "code",
   "execution_count": 11,
   "id": "5db954e4",
   "metadata": {},
   "outputs": [],
   "source": [
    "X = data\n",
    "y = labels\n",
    "X_train, X_test, y_train, y_test = train_test_split(X, y, test_size=0.2, random_state=42)"
   ]
  },
  {
   "cell_type": "code",
   "execution_count": 12,
   "id": "329bab04",
   "metadata": {},
   "outputs": [
    {
     "name": "stdout",
     "output_type": "stream",
     "text": [
      "Data splitting complete.\n",
      "Training set size: 5 samples\n",
      "Testing set size: 2 samples\n"
     ]
    }
   ],
   "source": [
    "print(\"Data splitting complete.\")\n",
    "print(f\"Training set size: {len(X_train)} samples\")\n",
    "print(f\"Testing set size: {len(X_test)} samples\")"
   ]
  },
  {
   "cell_type": "markdown",
   "id": "ac79f5e3",
   "metadata": {},
   "source": [
    "train the model"
   ]
  },
  {
   "cell_type": "code",
   "execution_count": 13,
   "id": "ae3c7592",
   "metadata": {},
   "outputs": [
    {
     "name": "stdout",
     "output_type": "stream",
     "text": [
      "Training SVM model...\n",
      "SVM model training complete.\n"
     ]
    }
   ],
   "source": [
    "model = SVC(kernel='linear')\n",
    "\n",
    "print(\"Training SVM model...\")\n",
    "model.fit(X_train, y_train)\n",
    "\n",
    "print(\"SVM model training complete.\")"
   ]
  },
  {
   "cell_type": "code",
   "execution_count": 14,
   "id": "e61914ec",
   "metadata": {},
   "outputs": [],
   "source": [
    "y_pred = model.predict(X_test)"
   ]
  },
  {
   "cell_type": "code",
   "execution_count": 15,
   "id": "8c33e3ea",
   "metadata": {},
   "outputs": [
    {
     "name": "stdout",
     "output_type": "stream",
     "text": [
      "Accuracy on the test set: 0.5000\n"
     ]
    }
   ],
   "source": [
    "accuracy = accuracy_score(y_test, y_pred)\n",
    "print(f\"Accuracy on the test set: {accuracy:.4f}\")"
   ]
  },
  {
   "cell_type": "code",
   "execution_count": 16,
   "id": "986a2c0b",
   "metadata": {},
   "outputs": [
    {
     "name": "stdout",
     "output_type": "stream",
     "text": [
      "\n",
      "Classification Report:\n",
      "              precision    recall  f1-score   support\n",
      "\n",
      "           0       0.00      0.00      0.00         1\n",
      "           1       1.00      1.00      1.00         1\n",
      "           2       0.00      0.00      0.00         0\n",
      "\n",
      "    accuracy                           0.50         2\n",
      "   macro avg       0.33      0.33      0.33         2\n",
      "weighted avg       0.50      0.50      0.50         2\n",
      "\n"
     ]
    },
    {
     "name": "stderr",
     "output_type": "stream",
     "text": [
      "D:\\Forml\\Lib\\site-packages\\sklearn\\metrics\\_classification.py:1469: UndefinedMetricWarning: Precision and F-score are ill-defined and being set to 0.0 in labels with no predicted samples. Use `zero_division` parameter to control this behavior.\n",
      "  _warn_prf(average, modifier, msg_start, len(result))\n",
      "D:\\Forml\\Lib\\site-packages\\sklearn\\metrics\\_classification.py:1469: UndefinedMetricWarning: Recall and F-score are ill-defined and being set to 0.0 in labels with no true samples. Use `zero_division` parameter to control this behavior.\n",
      "  _warn_prf(average, modifier, msg_start, len(result))\n",
      "D:\\Forml\\Lib\\site-packages\\sklearn\\metrics\\_classification.py:1469: UndefinedMetricWarning: Precision and F-score are ill-defined and being set to 0.0 in labels with no predicted samples. Use `zero_division` parameter to control this behavior.\n",
      "  _warn_prf(average, modifier, msg_start, len(result))\n",
      "D:\\Forml\\Lib\\site-packages\\sklearn\\metrics\\_classification.py:1469: UndefinedMetricWarning: Recall and F-score are ill-defined and being set to 0.0 in labels with no true samples. Use `zero_division` parameter to control this behavior.\n",
      "  _warn_prf(average, modifier, msg_start, len(result))\n",
      "D:\\Forml\\Lib\\site-packages\\sklearn\\metrics\\_classification.py:1469: UndefinedMetricWarning: Precision and F-score are ill-defined and being set to 0.0 in labels with no predicted samples. Use `zero_division` parameter to control this behavior.\n",
      "  _warn_prf(average, modifier, msg_start, len(result))\n",
      "D:\\Forml\\Lib\\site-packages\\sklearn\\metrics\\_classification.py:1469: UndefinedMetricWarning: Recall and F-score are ill-defined and being set to 0.0 in labels with no true samples. Use `zero_division` parameter to control this behavior.\n",
      "  _warn_prf(average, modifier, msg_start, len(result))\n"
     ]
    }
   ],
   "source": [
    "print(\"\\nClassification Report:\")\n",
    "print(classification_report(y_test, y_pred))"
   ]
  },
  {
   "cell_type": "code",
   "execution_count": 17,
   "id": "65a68768",
   "metadata": {},
   "outputs": [
    {
     "name": "stdout",
     "output_type": "stream",
     "text": [
      "\n",
      "Confusion Matrix:\n",
      "[[0 0 1]\n",
      " [0 1 0]\n",
      " [0 0 0]]\n"
     ]
    }
   ],
   "source": [
    "print(\"\\nConfusion Matrix:\")\n",
    "print(confusion_matrix(y_test, y_pred))"
   ]
  },
  {
   "cell_type": "code",
   "execution_count": null,
   "id": "c3041cb7",
   "metadata": {},
   "outputs": [],
   "source": []
  }
 ],
 "metadata": {
  "kernelspec": {
   "display_name": "Python 3 (ipykernel)",
   "language": "python",
   "name": "python3"
  },
  "language_info": {
   "codemirror_mode": {
    "name": "ipython",
    "version": 3
   },
   "file_extension": ".py",
   "mimetype": "text/x-python",
   "name": "python",
   "nbconvert_exporter": "python",
   "pygments_lexer": "ipython3",
   "version": "3.11.4"
  }
 },
 "nbformat": 4,
 "nbformat_minor": 5
}
